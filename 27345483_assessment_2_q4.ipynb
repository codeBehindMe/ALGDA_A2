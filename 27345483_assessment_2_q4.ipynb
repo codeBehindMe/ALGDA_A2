{
 "cells": [
  {
   "cell_type": "markdown",
   "metadata": {},
   "source": [
    "# Part D Logistic Regression vs. Bayesian Classifier\n",
    "## Question 4\n",
    "This task assesses your analytical skills. You need to study the performance of two\n",
    "well-known generative and discriminative models, i.e. Bayesian classifier and logistic\n",
    "regression, as the size of the training set increases. Then, you show your understanding of\n",
    "the behaviour of learning curves of typical generative and discriminative models."
   ]
  },
  {
   "cell_type": "code",
   "execution_count": 1,
   "metadata": {
    "collapsed": false
   },
   "outputs": [
    {
     "name": "stderr",
     "output_type": "stream",
     "text": [
      "Loading required package: ggplot2\n",
      "Loading required package: reshape2\n"
     ]
    }
   ],
   "source": [
    "require(ggplot2);\n",
    "require(reshape2);\n",
    "\n",
    "testData <- read.csv(\"C:/Users/aaron/OneDrive/Documents/Monash Data Science/Algorithms For Data Analysis/Assignment 2/Dataset/Task2D_test.csv\")\n",
    "testLabel <- testData[, 'y']\n",
    "testData <- testData[, 1:2]\n",
    "trainData <- read.csv(\"C:/Users/aaron/OneDrive/Documents/Monash Data Science/Algorithms For Data Analysis/Assignment 2/Dataset/Task2D_train.csv \")\n",
    "trainLabel <- trainData[, 'y']\n",
    "trainData <- trainData[, 1:2]\n"
   ]
  },
  {
   "cell_type": "code",
   "execution_count": 2,
   "metadata": {
    "collapsed": true
   },
   "outputs": [],
   "source": [
    "bayesClassifier <- function(trainData, trainLabel, testData, testLabel, c0, c1) {\n",
    "\n",
    "    require(mvtnorm)\n",
    "    # recover data sets\n",
    "\n",
    "    train.len <- round(nrow(trainData));\n",
    "    train.data <- trainData;\n",
    "    train.label <- trainLabel;\n",
    "\n",
    "    test.data <- testData;\n",
    "    test.label <- testLabel;\n",
    "\n",
    "    # Class probabilities:\n",
    "    p0.hat <- sum(train.label == c0) / nrow(train.data) # total number of samples in class 0 divided by the total nmber of training data\n",
    "    p1.hat <- sum(train.label == c1) / nrow(train.data) # or simply 1 - p1.hat\n",
    "\n",
    "    # Class means:\n",
    "    mu0.hat <- colMeans(train.data[train.label == c0,])\n",
    "    mu1.hat <- colMeans(train.data[train.label == c1,])\n",
    "\n",
    "    # class covariance matrices:\n",
    "    sigma0.hat <- var(train.data[train.label == c0,])\n",
    "    sigma1.hat <- var(train.data[train.label == c1,])\n",
    "\n",
    "\n",
    "    # shared covariance matrix:\n",
    "    sigma.hat <- p0.hat * sigma0.hat + p1.hat * sigma1.hat\n",
    "\n",
    "    # calculate posteriors:\n",
    "    posterior0 <- p0.hat * dmvnorm(x = train.data, mean = mu0.hat, sigma = sigma.hat)\n",
    "    posterior1 <- p1.hat * dmvnorm(x = train.data, mean = mu1.hat, sigma = sigma.hat)\n",
    "\n",
    "    # calculate predictions:\n",
    "    train.predict <- ifelse(posterior0 > posterior1, c0, c1)\n",
    "    test.predict <- ifelse(p0.hat * dmvnorm(x = test.data, mean = mu0.hat, sigma = sigma.hat) > p1.hat * dmvnorm(x = test.data, mean = mu1.hat, sigma = sigma.hat), c0, c1)\n",
    "\n",
    "\n",
    "    # calculate accuracy\n",
    "    trAccuracy_ <- sum(train.label == train.predict) / nrow(train.data) * 100\n",
    "    tsAccuracy_ <- sum(test.label == test.predict) / nrow(test.data) * 100\n",
    "\n",
    "    # Confusion Matix (Train):\n",
    "    cmTrain_ <- table(train.label, train.predict)\n",
    "\n",
    "    # Confusion Matix (Test):\n",
    "    cmTest_ <- table(test.label, test.predict)\n",
    "\n",
    "    res_ <- list(\"TrainingError\" = 100 - trAccuracy_, \"TestError\" = 100 - tsAccuracy_);\n",
    "\n",
    "    return(res_);\n",
    "}\n"
   ]
  },
  {
   "cell_type": "code",
   "execution_count": 3,
   "metadata": {
    "collapsed": true
   },
   "outputs": [],
   "source": [
    "logisticClassifier <- function(trainData, trainLabel, testData, testLabel, c0, c1, iterMax = 1000, eta = 0.01, epsilon = 0.01) {\n",
    "\n",
    "    library(mvtnorm)\n",
    "\n",
    "    train.len <- round(nrow(trainData));\n",
    "    train.data <- trainData;\n",
    "    train.label <- trainLabel;\n",
    "\n",
    "    test.data <- testData;\n",
    "    test.label <- testLabel;\n",
    "\n",
    "\n",
    "    # auxiliary function that predicts class labels\n",
    "    predict <- function(w, X, c0, c1) {\n",
    "        sig <- sigmoid(w, X)\n",
    "        return(ifelse(sig > 0.5, c1, c0))\n",
    "    }\n",
    "\n",
    "    # auxiliary function that calculate a cost function\n",
    "    cost <- function(w, X, T, c0) {\n",
    "        sig <- sigmoid(w, X)\n",
    "        return(sum(ifelse(T == c0, 1 - sig, sig)))\n",
    "    }\n",
    "\n",
    "    # Sigmoid function (=p(C1|X))\n",
    "    sigmoid <- function(w, x) {\n",
    "        return(1.0 / (1.0 + exp( - w %*% t(cbind(1, x)))))\n",
    "    }\n",
    "\n",
    "    # Initializations\n",
    "    tau.max <- iterMax # maximum number of iterations\n",
    "    eta <- eta # learning rate\n",
    "    epsilon <- epsilon # a threshold on the cost (to terminate the process)\n",
    "    tau <- 1 # iteration counter\n",
    "    terminate <- FALSE\n",
    "\n",
    "    ## Just a few name/type conversion to make the rest of the code easy to follow\n",
    "    X <- as.matrix(train.data) # rename just for conviniance\n",
    "    T <- ifelse(train.label == c0, 0, 1) # rename just for conviniance\n",
    "\n",
    "    W <- matrix(, nrow = tau.max, ncol = (ncol(X) + 1)) # to be used to store the estimated coefficients\n",
    "    W[1,] <- runif(ncol(W)) # initial weight (any better idea?)\n",
    "\n",
    "    # project data using the sigmoid function (just for convenient)\n",
    "    Y <- sigmoid(W[1,], X)\n",
    "\n",
    "    costs <- data.frame('tau' = 1:tau.max) # to be used to trace the cost in each iteration\n",
    "    costs[1, 'cost'] <- cost(W[1,], X, T, c0)\n",
    "\n",
    "    while (!terminate) {\n",
    "        # check termination criteria:\n",
    "        terminate <- tau >= tau.max | cost(W[tau,], X, T, c0) <= epsilon\n",
    "\n",
    "        # shuffle data:\n",
    "        train.index <- sample(1:train.len, train.len, replace = FALSE)\n",
    "        X <- X[train.index,]\n",
    "        T <- T[train.index]\n",
    "\n",
    "        # for each datapoint:\n",
    "        for (i in 1:train.len) {\n",
    "            # check termination criteria:\n",
    "            if (tau >= tau.max | cost(W[tau, ], X, T, c0) <= epsilon) {\n",
    "                terminate <- TRUE;\n",
    "                break\n",
    "            }\n",
    "\n",
    "            Y <- sigmoid(W[tau,], X)\n",
    "\n",
    "            # Update the weights\n",
    "            W[(tau + 1),] <- W[tau,] - eta * (Y[i] - T[i]) * cbind(1, t(X[1,]))\n",
    "\n",
    "            # record the cost:\n",
    "            costs[(tau + 1), 'cost'] <- cost(W[tau,], X, T, c0)\n",
    "\n",
    "            # update the counter:\n",
    "            tau <- tau + 1\n",
    "\n",
    "            # decrease learning rate:\n",
    "            eta = eta * 0.999\n",
    "        }\n",
    "    }\n",
    "\n",
    "    costs <- costs[1:tau,] # remove the NaN tail of the vector (in case of early stopping)\n",
    "\n",
    "    # the  final result is:\n",
    "    w <- W[tau,]\n",
    "\n",
    "    # make predictions on test and train set\n",
    "    trPreds_ <- predict(W[tau,], as.matrix(train.data), c0, c1);\n",
    "    tsPreds_ <- predict(W[tau,], as.matrix(test.data), c0, c1);\n",
    "\n",
    "    # compare the number of missclassifications\n",
    "    trError_ <- sum(trPreds_ != train.label) / length(train.label);\n",
    "    tsError_ <- sum(tsPreds_ != test.label) / length(test.label);\n",
    "\n",
    "    res_ <- list(\"Costs\" = costs, \"Coefficients\" = w, \"TrainingError\" = trError_ * 100, \"TestError\" = tsError_ * 100);\n",
    "\n",
    "    return(res_);\n",
    "}\n"
   ]
  },
  {
   "cell_type": "code",
   "execution_count": 4,
   "metadata": {
    "collapsed": false
   },
   "outputs": [
    {
     "name": "stderr",
     "output_type": "stream",
     "text": [
      "Loading required package: mvtnorm\n"
     ]
    },
    {
     "data": {
      "image/png": "[encoded data removed]",
      "text/plain": [
       "plot without title"
      ]
     },
     "metadata": {
      "image/svg+xml": {
       "isolated": true
      }
     },
     "output_type": "display_data"
    }
   ],
   "source": [
    "# loop through increasing size from 5 - length of training set.\n",
    "seq_ <- seq(5, nrow(trainData), 5);\n",
    "\n",
    "errMatrix_ <- matrix(, length(seq_), ncol = 4);\n",
    "\n",
    "iter_ <- 1;\n",
    "\n",
    "for (i in seq_) {\n",
    "\n",
    "    # apply bayes classifer\n",
    "    nb_ <- bayesClassifier(trainData[1:i,], trainLabel[1:i], testData, testLabel, 1, -1);\n",
    "\n",
    "    # record error\n",
    "    errMatrix_[iter_, 1] <- nb_$TrainingError;\n",
    "    errMatrix_[iter_, 2] <- nb_$TestError;\n",
    "\n",
    "    # apply logistic regression\n",
    "    lr_ <- logisticClassifier(trainData[1:i,], trainLabel[1:i], testData, testLabel, 1, -1);\n",
    "\n",
    "    # record error\n",
    "    errMatrix_[iter_, 3] <- lr_$TrainingError;\n",
    "    errMatrix_[iter_, 4] <- lr_$TestError;\n",
    "\n",
    "   \n",
    "    iter_ <- iter_ + 1;\n",
    "\n",
    "}\n",
    "\n",
    "df_ <- as.data.frame(cbind(seq_, errMatrix_));\n",
    "\n",
    "colnames(df_) <- c(\"DataLength\", \"Bayes Training Error\", \"Bayes Testing Error\", \"Logistic Training Error\", \"Logistic Testing Error\");\n",
    "\n",
    "df_M <- melt(df_, id = \"DataLength\")\n",
    "\n",
    "ggplot(data = df_M, aes(x = DataLength, y = value, color = variable)) + geom_line() + xlab(\"Training Set Size\") + ylab(\"Errors\") + ggtitle(\"Logistic Regression Vs Bayesian Classifier\");"
   ]
  },
  {
   "cell_type": "code",
   "execution_count": null,
   "metadata": {
    "collapsed": true
   },
   "outputs": [],
   "source": []
  }
 ],
 "metadata": {
  "kernelspec": {
   "display_name": "R",
   "language": "R",
   "name": "ir"
  },
  "language_info": {
   "codemirror_mode": "r",
   "file_extension": ".r",
   "mimetype": "text/x-r-source",
   "name": "R",
   "pygments_lexer": "r",
   "version": "3.3.0"
  }
 },
 "nbformat": 4,
 "nbformat_minor": 0
}
