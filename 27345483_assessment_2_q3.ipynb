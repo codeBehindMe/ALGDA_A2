{
 "cells": [
  {
   "cell_type": "markdown",
   "metadata": {},
   "source": [
    "# Part C Multiclass Perceptron\n",
    "## Question 3\n",
    "In this part, you are asked to demonstrate your understanding of linear models for\n",
    "classification. You expand the binary-class perceptron algorithm that is covered in Activity 1\n",
    "of Module 3 into a multiclass classifier.\n"
   ]
  },
  {
   "cell_type": "markdown",
   "metadata": {},
   "source": [
    "### Multiclass Perceptron"
   ]
  },
  {
   "cell_type": "code",
   "execution_count": 1,
   "metadata": {
    "collapsed": false
   },
   "outputs": [
    {
     "name": "stderr",
     "output_type": "stream",
     "text": [
      "Loading required package: ggplot2\n"
     ]
    }
   ],
   "source": [
    "require(ggplot2)\n",
    "\n",
    "set.seed(1234);\n",
    "# load datasets\n",
    "testData <- read.csv(\"C:/Users/aaron/OneDrive/Documents/Monash Data Science/Algorithms For Data Analysis/Assignment 2/Dataset/Task2C_test.csv\")\n",
    "testLabel <- testData[, 'y']\n",
    "testData <- testData[, 1:4]\n",
    "trainData <- read.csv(\"C:/Users/aaron/OneDrive/Documents/Monash Data Science/Algorithms For Data Analysis/Assignment 2/Dataset/Task2C_train.csv \")\n",
    "trainLabel <- trainData[, 'y']\n",
    "trainData <- trainData[, 1:4]\n"
   ]
  },
  {
   "cell_type": "code",
   "execution_count": 2,
   "metadata": {
    "collapsed": true
   },
   "outputs": [],
   "source": [
    "mCPerceptron <- function(trainData,trainLabel,eta=0.1,iterMax=100) {\n",
    "\n",
    "    # get levels\n",
    "    levels_ <- levels(trainLabel);\n",
    "\n",
    "\n",
    "    # store weight vectors for each level\n",
    "    wK_ <- matrix(, nrow = length(levels_), ncol = ncol(trainData));\n",
    "\n",
    "    # instantiate weight vectors\n",
    "    for (i in 1:length(levels_)) {\n",
    "\n",
    "        wK_[i,] <- runif(ncol(wK_));\n",
    "\n",
    "    }\n",
    "\n",
    "    # initialise phi\n",
    "    phi_ <- as.matrix(trainData);\n",
    "\n",
    "    # iteration counter\n",
    "    iter_ <- 1;\n",
    "\n",
    "    # max iterations\n",
    "    iterMax_ <- iterMax;\n",
    "\n",
    "    # termination flag\n",
    "    term_ <- FALSE;\n",
    "\n",
    "    # learning rate\n",
    "    eta_ <- eta;\n",
    "\n",
    "    error_ <- 0;\n",
    "\n",
    "    # initiate main loop\n",
    "    while (term_) {\n",
    "\n",
    "        # randomise data points\n",
    "        trIndex_ <- sample(1:nrow(trainData), nrow(trainData));\n",
    "        phi_ <- phi_[trIndex_,];\n",
    "        trLab_ <- trainLabel[trIndex_];\n",
    "\n",
    "        # numerify labels\n",
    "        trLab_ <- as.numeric(trLab_);\n",
    "\n",
    "        # visit each datapoint\n",
    "        for (n in 1:nrow(trainData)) {\n",
    "\n",
    "            # get results of weight vectors\n",
    "            pred_ <- wK_ %*% phi_[i,];\n",
    "\n",
    "            # get the class of the predition\n",
    "            predClass_ <- which.max(pred_);\n",
    "\n",
    "            # if the class predicted does not match the label update the weights\n",
    "            if (predClass_ != trLab_[i]) {\n",
    "\n",
    "                # update weights of the class that produced the largest dot product.\n",
    "                wK_[predClass_,] <- wK_[predClass_,] - eta_ * phi_[i,]\n",
    "\n",
    "                # update the weights of the true class.\n",
    "                wK_[trLab_[i],] <- wK_[trLab_[i],] + eta_ * phi_[i,];\n",
    "\n",
    "            }\n",
    "        }\n",
    "\n",
    "\n",
    "        # increment iterator\n",
    "        iter_ <- iter_ + 1;\n",
    "        term_ <- iter_ >= iterMax_;\n",
    "\n",
    "    }\n",
    "\n",
    "    return(wK_);\n",
    "\n",
    "}\n"
   ]
  },
  {
   "cell_type": "code",
   "execution_count": 3,
   "metadata": {
    "collapsed": true
   },
   "outputs": [],
   "source": [
    "mCPredictions <- function(data,labels,weights) {\n",
    "\n",
    "    # container for predictions\n",
    "    predictions_ <- matrix(, nrow = nrow(data), ncol = 1);\n",
    "\n",
    "    # get label levels\n",
    "    levels_ <- levels(labels);\n",
    "\n",
    "    err_ <- 0;\n",
    "\n",
    "    for (n in 1:nrow(data)) {\n",
    "\n",
    "        # predict\n",
    "        pred_ <- weights %*% as.matrix(data)[n,];\n",
    "\n",
    "        # assign class\n",
    "        predictions_[n] <- levels_[which.max(pred_)];\n",
    "\n",
    "        # if error, increment error count.\n",
    "        if (levels_[which.max(pred_)] != labels[n]) {\n",
    "            err_ = err_ + 1;\n",
    "        }\n",
    "\n",
    "    }\n",
    "    \n",
    "\n",
    "    # errors\n",
    "    #err_ <- sum(predictions_!=labels)\n",
    "\n",
    "    lst_ <- list(\"errors\" = err_/nrow(data)*100, \"predictions\" = predictions_);\n",
    "\n",
    "    return(lst_);\n",
    "\n",
    "}\n"
   ]
  },
  {
   "cell_type": "code",
   "execution_count": 4,
   "metadata": {
    "collapsed": false
   },
   "outputs": [
    {
     "data": {
      "image/png": "[encoded data removed]",
      "text/plain": [
       "plot without title"
      ]
     },
     "metadata": {
      "image/svg+xml": {
       "isolated": true
      }
     },
     "output_type": "display_data"
    }
   ],
   "source": [
    "# container for minibatch errors\n",
    "errTot_ <- matrix(,nrow=length(seq(1,nrow(trainData),5)),ncol = 2)\n",
    "index_ <- 1; # indexer\n",
    "\n",
    "\n",
    "for (i in seq(1, nrow(trainData), 5)) {\n",
    "\n",
    "    wts_ <- mCPerceptron(trainData[1:i + 4,], trainLabel[1:i + 4]);\n",
    "    res_ <- mCPredictions(testData, testLabel, wts_);\n",
    "\n",
    "    errTot_[index_,1] <- i\n",
    "    errTot_[index_,2] <- res_$errors;\n",
    "\n",
    "    index_ = index_ + 1;\n",
    "\n",
    "}\n",
    "\n",
    "# plot\n",
    "df_ <- as.data.frame(errTot_);\n",
    "ggplot(data = df_, aes(x = df_$V1, y = df_$V2)) + geom_line() + ylab(\"Error %\") + xlab(\"Minibatch\") + ggtitle(\"Multiclass Perceptron Errors\");"
   ]
  },
  {
   "cell_type": "markdown",
   "metadata": {},
   "source": [
    "### One Vs One Perceptron"
   ]
  },
  {
   "cell_type": "code",
   "execution_count": 5,
   "metadata": {
    "collapsed": true
   },
   "outputs": [],
   "source": [
    "target <- \"C1\"\n",
    "oneOneClassifier <- function(trainData,trainLabel,testData,testLabel,eta,epsilon,iterMax) {\n",
    "\n",
    "    # dermine k\n",
    "    k_ <- length(levels(trainLabel));\n",
    "\n",
    "    # container to store weights of K(K-1)/2 classifiers\n",
    "    w__ <- matrix(0, nrow = k_ * (k_ - 1) / 2, ncol = ncol(trainData) + 1);\n",
    "\n",
    "    # build K(K-1)/2 classifiers\n",
    "    for (m in 1:k_*(k_ - 1) / 2) {\n",
    "        w__[m,] <- binaryClassifier(trainData, trainLabel, eta, epsilon, iterMax, levels(trainLabel)[m]);\n",
    "    }\n",
    "\n",
    "    # predict test set using each classifier.\n",
    "    # if the result is positive, then the prediction is that class.\n",
    "\n",
    "    res_ <- matrix(, nrow = nrow(testData), ncol = k_ * (k_ - 1) / 2);\n",
    "    for (m in 1:k_ * (k_ - 1) / 2) {\n",
    "\n",
    "        res_[, m] <- as.matrix(cbind(1, testData)) %*% w__[m,];\n",
    "    }\n",
    "\n",
    "    preds_ <- matrix(, nrow = nrow(testData), ncol = 1);\n",
    "\n",
    "    # \n",
    "    for (i in 1:nrow(testData)) {\n",
    "\n",
    "        tmp_ <- which(res_[i,] > 0);\n",
    "\n",
    "        if (length(tmp_) >= 2) {\n",
    "            preds_[i] <- \"confusion\";\n",
    "        } else {\n",
    "            preds_[i] <- levels(testLabel)[tmp_];\n",
    "        }\n",
    "\n",
    "    }\n",
    "\n",
    "    return(preds_);\n",
    "\n",
    "}\n",
    "binaryClassifier <- function(trainData,trainLabel,eta,epsilon,iterMax,target) {\n",
    "\n",
    "    # make a binary classifier.\n",
    "    # create phi\n",
    "    phi_ <- as.matrix(cbind(1, trainData));\n",
    "\n",
    "    eta_ <- eta;\n",
    "    epsilon_ <- epsilon;\n",
    "    iterMax_ <- iterMax;\n",
    "\n",
    "    # rename the labels with +1 as the target class, and others as -1\n",
    "    levels(trainLabel)[levels(trainLabel) == target] <- 1;\n",
    "    levels(trainLabel)[levels(trainLabel) != 1] <- -1;\n",
    "\n",
    "    # cast numeric\n",
    "    trLab_ <- as.character(trainLabel)\n",
    "    trLab_ <- as.numeric(trLab_);\n",
    "\n",
    "    # weights container\n",
    "    w_ <- matrix(, nrow = iterMax_, ncol = ncol(phi_));\n",
    "\n",
    "    # initialise randome values for weights.\n",
    "    w_[1,] <- runif(ncol(phi_));\n",
    "\n",
    "    # container for errors\n",
    "    err_ <- matrix(0, nrow = iterMax_, ncol = 1);\n",
    "\n",
    "    # get random guess error\n",
    "    err_[1] <- sum((phi_ %*% w_[1,]) * trLab_ < 0) / nrow(trainData) * 100;\n",
    "\n",
    "    iter_ <- 1;\n",
    "    term_ <- FALSE;\n",
    "\n",
    "    while (!term_) {\n",
    "\n",
    "        # shuffle data\n",
    "        trainIndex <- sample(1:nrow(trainData), replace = FALSE);\n",
    "        phi_ <- phi_[trainIndex,];\n",
    "        trLab_ <- trLab_[trainIndex];\n",
    "\n",
    "        for (n in 1:nrow(trainData)) {\n",
    "\n",
    "            # termination check\n",
    "            if (iter_ == iterMax_) {\n",
    "                break\n",
    "            };\n",
    "\n",
    "            # search misclassified\n",
    "            if ((w_[iter_, ] %*% phi_[n, ]) * trLab_[n] < 0) {\n",
    "\n",
    "                # increment iteration\n",
    "                iter_ <- iter_ + 1;\n",
    "\n",
    "                # update weights\n",
    "                w_[iter_,] <- w_[iter_ - 1,] + eta_ * phi_[n,] * trLab_[n];\n",
    "\n",
    "                # update errors\n",
    "                err_[iter_] <- sum((phi_ %*% w_[iter_,]) * trLab_ < 0) / nrow(trainData) * 100;\n",
    "            }\n",
    "\n",
    "        }\n",
    "\n",
    "        # decay eta\n",
    "        eta_ = eta_ * 0.99;\n",
    "\n",
    "        # refresh termination\n",
    "        term_ <- iter_ >= iterMax_ | abs(sum((phi_ %*% w_[iter_,]) * trLab_ < 0) / nrow(trainData) - sum((phi_ %*% w_[iter_ - 1,]) * trLab_ < 0) / nrow(trainData));\n",
    "    }\n",
    "\n",
    "    coeffs_ <- w_[iter_,];\n",
    "\n",
    "    return(coeffs_);\n",
    "\n",
    "}"
   ]
  },
  {
   "cell_type": "code",
   "execution_count": 6,
   "metadata": {
    "collapsed": false
   },
   "outputs": [
    {
     "data": {
      "text/plain": [
       "\n",
       "       C1 confusion \n",
       "       25        50 "
      ]
     },
     "metadata": {},
     "output_type": "display_data"
    }
   ],
   "source": [
    "table(oneOneClassifier(trainData,trainLabel,testData,testLabel,0.1,0.001,100))"
   ]
  },
  {
   "cell_type": "code",
   "execution_count": null,
   "metadata": {
    "collapsed": true
   },
   "outputs": [],
   "source": []
  }
 ],
 "metadata": {
  "kernelspec": {
   "display_name": "R",
   "language": "R",
   "name": "ir"
  },
  "language_info": {
   "codemirror_mode": "r",
   "file_extension": ".r",
   "mimetype": "text/x-r-source",
   "name": "R",
   "pygments_lexer": "r",
   "version": "3.3.0"
  }
 },
 "nbformat": 4,
 "nbformat_minor": 0
}
