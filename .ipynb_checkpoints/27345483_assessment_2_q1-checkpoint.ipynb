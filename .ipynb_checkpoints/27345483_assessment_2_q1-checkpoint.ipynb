{
 "cells": [
  {
   "cell_type": "markdown",
   "metadata": {},
   "source": [
    "# Part A Ridge Regression\n",
    "\n",
    "## ii\n",
    "Using R (with no use of special libraries), implement SGD and BGD algorithms that\n",
    "you derived in Step I. The implementation is straightforward as you are allowed to\n",
    "use the code examples from Activity 1 in Module 2 ."
   ]
  },
  {
   "cell_type": "code",
   "execution_count": 1,
   "metadata": {
    "collapsed": false
   },
   "outputs": [
    {
     "name": "stderr",
     "output_type": "stream",
     "text": [
      "Loading required package: ggplot2\n",
      "Loading required package: reshape2\n"
     ]
    }
   ],
   "source": [
    "# import libraries\n",
    "require(ggplot2)\n",
    "require(reshape2)\n",
    "\n",
    "\n",
    "# import datasets\n",
    "testData <- read.csv(\"./Task2A_test.csv\")\n",
    "testLabel <- testData[, 'y']\n",
    "testData <- testData[, 1:4]\n",
    "trainData <- read.csv(\"./Task2A_train.csv \")\n",
    "trainLabel <- trainData[, 'y']\n",
    "trainData <- trainData[, 1:4]"
   ]
  },
  {
   "cell_type": "markdown",
   "metadata": {},
   "source": [
    "Tackle Stochastic Descent first"
   ]
  },
  {
   "cell_type": "code",
   "execution_count": 2,
   "metadata": {
    "collapsed": true
   },
   "outputs": [],
   "source": [
    "stochasticDescent <- function(trainData, trainLabel, testData = NULL, testLabel = NULL, eta = 0.00000000001, iterMax = 10000, lambda = 0.2, epsilon = 0.1, basis = 1, seed = 1234) {\n",
    "\n",
    "    # reproducibility\n",
    "    if (!is.null(seed)) {\n",
    "        set.seed(seed);\n",
    "    };\n",
    "\n",
    "    # this function uses stochastic descent to find the optimal parameter weights for regression function.\n",
    "\n",
    "    ## parameterisation ##\n",
    "\n",
    "    # training data length\n",
    "    trainLen <- nrow(trainData);\n",
    "    # learning rate\n",
    "    eta_ <- eta;\n",
    "    # max number if iterations\n",
    "    iterMax_ <- iterMax;\n",
    "    # lambda value\n",
    "    lambda_ <- lambda;\n",
    "    # rmse terminiation condition\n",
    "    epsilon_ <- epsilon;\n",
    "\n",
    "    ## containers ##\n",
    "\n",
    "    # develop basis function and container\n",
    "    phi_ <- as.matrix(cbind('x0' = basis, trainData));\n",
    "    # container for coefficients\n",
    "    w_ <- matrix(, nrow = iterMax_, ncol = ncol(phi_));\n",
    "    # container for errors\n",
    "    err_ <- data.frame('iteration' = 1:iterMax_);\n",
    "\n",
    "    ## utility functions ##\n",
    "\n",
    "    f_prediction <- function(phi, w) {\n",
    "        # basis function * params.\n",
    "        return(phi %*% w);\n",
    "    }\n",
    "\n",
    "    f_error <- function(phi, w, label) {\n",
    "        # rmse\n",
    "        return(sqrt(sum((((label - f_prediction(phi = phi, w = w)) ^ 2) / 2))));\n",
    "    }\n",
    "\n",
    "\n",
    "    ## initialisation ##\n",
    "\n",
    "    # initialise iterations\n",
    "    iter_ <- 1;\n",
    "    # guess initial coefficients\n",
    "    w_[iter_,] <- rnorm(ncol(phi_));\n",
    "    # initialise termination flag\n",
    "    term_ <- FALSE;\n",
    "\n",
    "    # Begin Descent\n",
    "    while (!term_) {\n",
    "\n",
    "        # check termination criteron\n",
    "        term_ <- iter_ >= iterMax_ | epsilon_ > f_error(phi = phi_, w = w_[iter_,], label = trainLabel);\n",
    "\n",
    "        # randomise data\n",
    "        trainIndex_ <- sample(1:trainLen, trainLen, replace = FALSE);\n",
    "\n",
    "        # rearrange the basis function and training labels (do this locally).\n",
    "        phi_ <- phi_[trainIndex_,];\n",
    "        trLabels_ <- trainLabel[trainIndex_];\n",
    "\n",
    "        # visit data point\n",
    "        for (n in 1:trainLen) {\n",
    "\n",
    "            # calculate error in iter, it should terminiate correctly.\n",
    "            err_[iter_, 'train'] <- f_error(phi = as.matrix(cbind(1, trainData)), w = w_[iter_,], trainLabel);\n",
    "            if (!is.null(testData)) {\n",
    "                err_[iter_, 'test'] <- f_error(phi = as.matrix(cbind(1, testData)), w = w_[iter_,], testLabel);\n",
    "            }\n",
    "\n",
    "            # check for termination criterea.\n",
    "            if (iter_ >= iterMax_) {\n",
    "                term_ <- TRUE;\n",
    "                break;\n",
    "            }\n",
    "\n",
    "            # make a prediction with teh current coefficients for the datapoint.\n",
    "            wPhi_ <- f_prediction(phi = phi_[n,], w = w_[iter_,]);\n",
    "\n",
    "            # for each coefficient, use the loss function to update the coefficients.\n",
    "            for (c in 1:ncol(w_)) {\n",
    "\n",
    "                w_[iter_ + 1, c] <- w_[iter_, c] + eta_ * sum((trLabels_[n] - wPhi_) * phi_[n, c] + (lambda_ * w_[iter_, c]));\n",
    "                # L2\n",
    "            }\n",
    "            # increment iterator.\n",
    "            iter_ = iter_ + 1;\n",
    "        }\n",
    "    }\n",
    "    # return objects as list.\n",
    "    return(list('coefficients' = w_[iter_ - 1,], 'errors' = err_));\n",
    "}"
   ]
  },
  {
   "cell_type": "markdown",
   "metadata": {},
   "source": [
    "Batch Descent next."
   ]
  },
  {
   "cell_type": "code",
   "execution_count": 3,
   "metadata": {
    "collapsed": true
   },
   "outputs": [],
   "source": [
    "batchDescent <- function(trainData, trainLabel, testData = NULL, testLabel = NULL, eta = 0.1, iterMax = 1000, lambda = 0.2, epsilon = 0.000000000001, basis = 1, seed = 1234) {\n",
    "\n",
    "    # reproducibility\n",
    "    if (!is.null(seed)) {\n",
    "        set.seed(seed);\n",
    "    };\n",
    "\n",
    "    # this function uses batch descent to find the optimal parameter weights for regression function.\n",
    "\n",
    "    ## parameterisation ##\n",
    "\n",
    "    # training data length\n",
    "    trainLen <- nrow(trainData);\n",
    "    # learning rate\n",
    "    eta_ <- eta;\n",
    "    # max number if iterations\n",
    "    iterMax_ <- iterMax;\n",
    "    # lambda value\n",
    "    lambda_ <- lambda;\n",
    "    # rmse terminiation condition\n",
    "    epsilon_ <- epsilon;\n",
    "\n",
    "    ## containers ##\n",
    "\n",
    "    # develop basis function and container\n",
    "    phi_ <- as.matrix(cbind('x0' = basis, trainData));\n",
    "    # container for coefficients\n",
    "    w_ <- matrix(, nrow = iterMax_, ncol = ncol(phi_));\n",
    "    # container for errors\n",
    "    err_ <- data.frame('iteration' = 1:iterMax_);\n",
    "\n",
    "    ## utility functions ##\n",
    "\n",
    "    f_prediction <- function(phi, w) {\n",
    "        # basis function * params.\n",
    "        return(phi %*% w);\n",
    "    }\n",
    "\n",
    "    f_error <- function(phi, w, label) {\n",
    "        # rmse\n",
    "        return(sqrt(sum((((label - f_prediction(phi = phi, w = w)) ^ 2) / 2))));\n",
    "    }\n",
    "\n",
    "    ## initialisation ##\n",
    "\n",
    "    # initialise iterations\n",
    "    iter_ <- 1;\n",
    "    # guess initial coefficients\n",
    "    w_[iter_,] <- rnorm(ncol(phi_));\n",
    "    # initialise termination flag\n",
    "    term_ <- FALSE;\n",
    "\n",
    "    # Begin Descent\n",
    "    while (!term_) {\n",
    "\n",
    "        # set terminiation critereon.\n",
    "        term_ <- iter_ >= iterMax_ | epsilon_ > f_error(phi = phi_, w = w_[iter_,], trainLabel);\n",
    "\n",
    "        # make prediction from the current coefficients;\n",
    "        wPhi_ <- f_prediction(phi = phi_, w = w_[iter_,]);\n",
    "\n",
    "        # initialise line search eta for decay\n",
    "        etaPrime_ <- eta_;\n",
    "\n",
    "        # begin line search\n",
    "        while (etaPrime_ > epsilon_) {\n",
    "\n",
    "            # check termination criteria\n",
    "            if (iter_ >= iterMax | epsilon_ > f_error(phi = phi_, w = w_[iter_, ], trainLabel)) {\n",
    "                term_ <- TRUE;\n",
    "                break;\n",
    "            }\n",
    "\n",
    "            # update coeffs for each column\n",
    "            for (c in 1:ncol(w_)) {\n",
    "                w_[iter_ + 1, c] <- w_[iter_, c] + etaPrime_ * sum((trainLabel - wPhi_) * phi_[, c] + (lambda_ * w_[iter_, c]));\n",
    "            }\n",
    "            \n",
    "            # get the errors for comparison\n",
    "            eIter <- f_error(phi = phi_, w = w_[iter_,], trainLabel);\n",
    "            eIterPlus1 <- f_error(phi = phi_, w = w_[iter_ + 1,], trainLabel);\n",
    "\n",
    "            # break if no improvement\n",
    "            if (eIter > eIterPlus1) {\n",
    "                break;\n",
    "            }\n",
    "\n",
    "            # decay eta \n",
    "            etaPrime_ = etaPrime_ / 2;\n",
    "        }\n",
    "\n",
    "        # record error\n",
    "        err_[iter_, 'train'] <- f_error(phi = phi_, w = w_[iter_,], trainLabel);\n",
    "        if (!is.null(testData)) {\n",
    "            err_[iter_, 'test'] <- f_error(phi = as.matrix(cbind(1, testData)), w = w_[iter_,], testLabel);\n",
    "        }\n",
    "\n",
    "        # record eta usage\n",
    "        err_[iter_, 'eta'] <- etaPrime_;\n",
    "\n",
    "        iter_ = iter_ + 1;\n",
    "\n",
    "    }\n",
    "\n",
    "    return(list('coeffs' = w_[iter_ - 1,], 'errors' = err_));\n",
    "}"
   ]
  },
  {
   "cell_type": "markdown",
   "metadata": {},
   "source": [
    "Apply the functions with 20 * 930 updates for SGD and 20 for BGD"
   ]
  },
  {
   "cell_type": "code",
   "execution_count": 4,
   "metadata": {
    "collapsed": true
   },
   "outputs": [],
   "source": [
    "# run sgd\n",
    "sgd_ <- stochasticDescent(trainData, trainLabel, iterMax = 20 * nrow(trainData));\n",
    "\n",
    "sgdErr <- sgd_$errors\n",
    "\n",
    "# run bgd\n",
    "bgd_ <- batchDescent(trainData, trainLabel, iterMax = 20);\n",
    "\n",
    "bgdErr <- bgd_$errors\n",
    "\n",
    "\n",
    "# record errors\n",
    "errsTot <- data.frame('iter' = 1:nrow(sgdErr))\n",
    "# merge sgd\n",
    "errsTot <- merge(errsTot, sgdErr, by.x = 'iter', by.y = 'iteration')\n",
    "# rename sgd training error\n",
    "names(errsTot)[names(errsTot) == 'train'] <- \"SGD Training Error\";\n",
    "\n",
    "# adjust key for bgd error for merge\n",
    "bgdErr[, 'iterKey'] <- seq(1, 18600, 930)\n",
    "\n",
    "errsTot <- merge(errsTot, bgdErr, by.x = 'iter', by.y = 'iterKey', all.x = TRUE)\n"
   ]
  },
  {
   "cell_type": "markdown",
   "metadata": {},
   "source": [
    "Clean up and plot."
   ]
  },
  {
   "cell_type": "code",
   "execution_count": 5,
   "metadata": {
    "collapsed": false
   },
   "outputs": [
    {
     "name": "stderr",
     "output_type": "stream",
     "text": [
      "Warning message:\n",
      ": Removed 18580 rows containing missing values (geom_point)."
     ]
    },
    {
     "data": {
      "image/png": "[encoded data removed]",
      "text/plain": [
       "plot without title"
      ]
     },
     "metadata": {
      "image/svg+xml": {
       "isolated": true
      }
     },
     "output_type": "display_data"
    }
   ],
   "source": [
    "# rename bgd training error\n",
    "names(errsTot)[names(errsTot) == 'train'] <- \"BGD Training Error\";\n",
    "\n",
    "# clean up dataframe\n",
    "errsTot <- subset(errsTot, select = c(\"iter\", \"SGD Training Error\", \"BGD Training Error\"))\n",
    "\n",
    "errMelt <- melt(errsTot, id = 'iter')\n",
    "\n",
    "ggplot(errMelt, aes(x = iter, y = value, colour = variable)) + geom_point() + ggtitle(\"BGD vs SGD Errors\") + ylab(\"Error\") + xlab(\"Visited Data Points\");"
   ]
  },
  {
   "cell_type": "code",
   "execution_count": null,
   "metadata": {
    "collapsed": true
   },
   "outputs": [],
   "source": []
  }
 ],
 "metadata": {
  "kernelspec": {
   "display_name": "R",
   "language": "R",
   "name": "ir"
  },
  "language_info": {
   "codemirror_mode": "r",
   "file_extension": ".r",
   "mimetype": "text/x-r-source",
   "name": "R",
   "pygments_lexer": "r",
   "version": "3.3.0"
  }
 },
 "nbformat": 4,
 "nbformat_minor": 0
}
